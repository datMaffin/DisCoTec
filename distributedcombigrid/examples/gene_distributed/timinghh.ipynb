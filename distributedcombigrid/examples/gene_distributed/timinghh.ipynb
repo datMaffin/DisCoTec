{
 "metadata": {
  "name": "",
  "signature": "sha256:2ec1d73839894eae57b89477a574f64cd67aa1b4ef71fed49f6b8e2c29311d25"
 },
 "nbformat": 3,
 "nbformat_minor": 0,
 "worksheets": [
  {
   "cells": [
    {
     "cell_type": "code",
     "collapsed": false,
     "input": [
      "%pylab inline\n",
      "import sys\n",
      "import os\n",
      "import json\n",
      "import matplotlib.patches as mpatch\n",
      "import matplotlib.ticker as ticker\n",
      "import matplotlib.pyplot as plt\n",
      "import numpy as np\n",
      "from itertools import cycle\n",
      "#from prettytable import PrettyTable"
     ],
     "language": "python",
     "metadata": {},
     "outputs": [
      {
       "output_type": "stream",
       "stream": "stdout",
       "text": [
        "Populating the interactive namespace from numpy and matplotlib\n"
       ]
      }
     ],
     "prompt_number": 107
    },
    {
     "cell_type": "code",
     "collapsed": false,
     "input": [
      "run = {}\n",
      "combine = {}\n",
      "convert = {}"
     ],
     "language": "python",
     "metadata": {},
     "outputs": [],
     "prompt_number": 108
    },
    {
     "cell_type": "code",
     "collapsed": false,
     "input": [
      "timerfile = 'timers/6000_6000.json'\n",
      "\n",
      "proc = json.load(open(timerfile))\n",
      "\n",
      "times = {}\n",
      "\n",
      "# print combined time for each process\n",
      "for data in proc:\n",
      "    for tname in proc[data][\"events\"]:\n",
      "        if tname not in times:\n",
      "            times[tname] = []\n",
      "            \n",
      "        tsum = 0\n",
      "        for j in proc[data][\"events\"][tname]:\n",
      "            tsum += j[1] - j[0]\n",
      "        times[tname].append(tsum/1e6)\n",
      "        \n",
      "\n",
      "for tname in times:\n",
      "    print tname,np.min(times[tname]),np.max(times[tname]),np.mean(times[tname])\n",
      "    \n",
      "run[6000] = np.mean(times[\"manager run\"])\n",
      "combine[6000] = np.mean(times[\"manager combine\"])\n",
      "convert[6000] = np.mean(times[\"worker write memory\"]) "
     ],
     "language": "python",
     "metadata": {},
     "outputs": [
      {
       "output_type": "stream",
       "stream": "stdout",
       "text": [
        "worker run 40.955433 49.484368 44.8223604453\n",
        "worker write memory 0.083587 0.152018 0.110761347656\n",
        "manager run 49.493655 49.493655 49.493655\n",
        "parallel eval 12.063293 12.063293 12.063293\n",
        "combine 0.064622 0.085467 0.0732251054687\n",
        "parallel eval 2 0.242261 0.242261 0.242261\n",
        "manager combine 0.087999 0.087999 0.087999\n"
       ]
      }
     ],
     "prompt_number": 109
    },
    {
     "cell_type": "code",
     "collapsed": false,
     "input": [
      "timerfile = 'timers/1000_6000.json'\n",
      "\n",
      "proc = json.load(open(timerfile))\n",
      "\n",
      "times = {}\n",
      "\n",
      "# print combined time for each process\n",
      "for data in proc:\n",
      "    for tname in proc[data][\"events\"]:\n",
      "        if tname not in times:\n",
      "            times[tname] = []\n",
      "            \n",
      "        tsum = 0\n",
      "        for j in proc[data][\"events\"][tname]:\n",
      "            tsum += j[1] - j[0]\n",
      "        times[tname].append(tsum/1e6)\n",
      "        \n",
      "\n",
      "for tname in times:\n",
      "    print tname,np.min(times[tname]),np.max(times[tname]),np.mean(times[tname])\n",
      "    \n",
      "run[1000] = np.mean(times[\"manager run\"])\n",
      "combine[1000] = np.mean(times[\"manager combine\"])\n",
      "convert[1000] = np.mean(times[\"worker write memory\"]) + np.mean(times[\"worker read memory\"])"
     ],
     "language": "python",
     "metadata": {},
     "outputs": [
      {
       "output_type": "stream",
       "stream": "stdout",
       "text": [
        "worker run 43.516128 51.714435 46.7024549434\n",
        "worker write memory 0.180778 0.33011 0.264298054688\n",
        "manager run 51.921013 51.921013 51.921013\n",
        "parallel eval 10.744371 10.744371 10.744371\n",
        "combine 0.376011 0.484543 0.428117246094\n",
        "manager combine 0.489882 0.489882 0.489882\n",
        "parallel eval 2 0.234207 0.234207 0.234207\n",
        "worker read memory 0.091214 0.152751 0.128761710937\n"
       ]
      }
     ],
     "prompt_number": 110
    },
    {
     "cell_type": "code",
     "collapsed": false,
     "input": [
      "timerfile = 'timers/100_6000.json'\n",
      "\n",
      "proc = json.load(open(timerfile))\n",
      "\n",
      "times = {}\n",
      "\n",
      "# print combined time for each process\n",
      "for data in proc:\n",
      "    for tname in proc[data][\"events\"]:\n",
      "        if tname not in times:\n",
      "            times[tname] = []\n",
      "            \n",
      "        tsum = 0\n",
      "        for j in proc[data][\"events\"][tname]:\n",
      "            tsum += j[1] - j[0]\n",
      "        times[tname].append(tsum/1e6)\n",
      "        \n",
      "\n",
      "for tname in times:\n",
      "    print tname,np.min(times[tname]),np.max(times[tname]),np.mean(times[tname])\n",
      "    \n",
      "run[100] = np.mean(times[\"manager run\"])\n",
      "combine[100] = np.mean(times[\"manager combine\"])\n",
      "convert[100] = np.mean(times[\"worker write memory\"]) + np.mean(times[\"worker read memory\"])"
     ],
     "language": "python",
     "metadata": {},
     "outputs": [
      {
       "output_type": "stream",
       "stream": "stdout",
       "text": [
        "worker run 49.459788 67.06517 57.8277705742\n",
        "worker write memory 1.224593 2.030933 1.71658799414\n",
        "manager run 68.144365 68.144365 68.144365\n",
        "parallel eval 11.304016 11.304016 11.304016\n",
        "combine 3.212957 4.047542 3.56961814453\n",
        "manager combine 3.941847 3.941847 3.941847\n",
        "parallel eval 2 0.227627 0.227627 0.227627\n",
        "worker read memory 1.07232 1.745115 1.48976067578\n"
       ]
      }
     ],
     "prompt_number": 111
    },
    {
     "cell_type": "code",
     "collapsed": false,
     "input": [
      "timerfile = 'timers/10_600.json'\n",
      "\n",
      "proc = json.load(open(timerfile))\n",
      "\n",
      "times = {}\n",
      "\n",
      "# print combined time for each process\n",
      "for data in proc:\n",
      "    for tname in proc[data][\"events\"]:\n",
      "        if tname not in times:\n",
      "            times[tname] = []\n",
      "            \n",
      "        tsum = 0\n",
      "        for j in proc[data][\"events\"][tname]:\n",
      "            tsum += j[1] - j[0]\n",
      "        times[tname].append(tsum/1e6*10)\n",
      "        \n",
      "\n",
      "for tname in times:\n",
      "    print tname,np.min(times[tname]),np.max(times[tname]),np.mean(times[tname])\n",
      "    \n",
      "run[10] = np.mean(times[\"manager run\"])\n",
      "combine[10] = np.mean(times[\"manager combine\"])\n",
      "convert[10] = np.mean(times[\"worker write memory\"]) + np.mean(times[\"worker read memory\"])"
     ],
     "language": "python",
     "metadata": {},
     "outputs": [
      {
       "output_type": "stream",
       "stream": "stdout",
       "text": [
        "worker run 133.22594 186.28756 165.765832441\n",
        "worker write memory 11.74713 18.92128 16.0672902148\n",
        "manager run 213.71933 213.71933 213.71933\n",
        "parallel eval 113.09577 113.09577 113.09577\n",
        "combine 32.84426 40.5283 35.9086070703\n",
        "manager combine 40.27497 40.27497 40.27497\n",
        "parallel eval 2 2.36211 2.36211 2.36211\n",
        "worker read memory 10.85305 16.98643 14.8208237305\n"
       ]
      }
     ],
     "prompt_number": 112
    },
    {
     "cell_type": "code",
     "collapsed": false,
     "input": [
      "timerfile = 'timers/5_600.json'\n",
      "\n",
      "proc = json.load(open(timerfile))\n",
      "\n",
      "times = {}\n",
      "\n",
      "# print combined time for each process\n",
      "for data in proc:\n",
      "    for tname in proc[data][\"events\"]:\n",
      "        if tname not in times:\n",
      "            times[tname] = []\n",
      "            \n",
      "        tsum = 0\n",
      "        for j in proc[data][\"events\"][tname]:\n",
      "            tsum += j[1] - j[0]\n",
      "        times[tname].append(tsum/1e6*10)\n",
      "        \n",
      "\n",
      "for tname in times:\n",
      "    print tname,np.min(times[tname]),np.max(times[tname]),np.mean(times[tname])\n",
      "    \n",
      "run[5] = np.mean(times[\"manager run\"])\n",
      "combine[5] = np.mean(times[\"manager combine\"])\n",
      "convert[5] = np.mean(times[\"worker write memory\"]) + np.mean(times[\"worker read memory\"])"
     ],
     "language": "python",
     "metadata": {},
     "outputs": [
      {
       "output_type": "stream",
       "stream": "stdout",
       "text": [
        "worker run 219.39456 290.42791 257.186210957\n",
        "worker write memory 22.96867 36.18651 31.3564765625\n",
        "manager run 364.81809 364.81809 364.81809\n",
        "parallel eval 112.75215 112.75215 112.75215\n",
        "combine 64.58488 80.5546 70.8973041016\n",
        "manager combine 78.03426 78.03426 78.03426\n",
        "parallel eval 2 2.34162 2.34162 2.34162\n",
        "worker read memory 21.84558 34.15992 29.8158177344\n"
       ]
      }
     ],
     "prompt_number": 113
    },
    {
     "cell_type": "code",
     "collapsed": false,
     "input": [
      "timerfile = 'timers/1_600.json'\n",
      "\n",
      "proc = json.load(open(timerfile))\n",
      "\n",
      "times = {}\n",
      "\n",
      "# print combined time for each process\n",
      "for data in proc:\n",
      "    for tname in proc[data][\"events\"]:\n",
      "        if tname not in times:\n",
      "            times[tname] = []\n",
      "            \n",
      "        tsum = 0\n",
      "        for j in proc[data][\"events\"][tname]:\n",
      "            tsum += j[1] - j[0]\n",
      "        times[tname].append(tsum/1e6*10)\n",
      "        \n",
      "\n",
      "for tname in times:\n",
      "    print tname,np.min(times[tname]),np.max(times[tname]),np.mean(times[tname])\n",
      "    \n",
      "run[1] = np.mean(times[\"manager run\"])\n",
      "combine[1] = np.mean(times[\"manager combine\"])\n",
      "convert[1] = np.mean(times[\"worker write memory\"]) + np.mean(times[\"worker read memory\"])"
     ],
     "language": "python",
     "metadata": {},
     "outputs": [
      {
       "output_type": "stream",
       "stream": "stdout",
       "text": [
        "worker run 961.78536 1270.30345 1140.0087951\n",
        "worker write memory 112.08039 175.94152 153.453711133\n",
        "manager run 1758.65175 1758.65175 1758.65175\n",
        "parallel eval 109.35415 109.35415 109.35415\n",
        "combine 316.27764 383.82804 349.635628672\n",
        "manager combine 384.49578 384.49578 384.49578\n",
        "parallel eval 2 2.30026 2.30026 2.30026\n",
        "worker read memory 109.83155 170.7832 150.018721973\n"
       ]
      }
     ],
     "prompt_number": 114
    },
    {
     "cell_type": "code",
     "collapsed": false,
     "input": [
      "#Total time of initial value computation:   1004.287 sec\n",
      "#Computed   9319 time steps\n",
      "# 512 cores\n",
      "\n",
      "fullgrid = 1004.287 * 6000 / 9319"
     ],
     "language": "python",
     "metadata": {},
     "outputs": [],
     "prompt_number": 115
    },
    {
     "cell_type": "code",
     "collapsed": false,
     "input": [
      "# a stacked bar plot with errorbars\n",
      "#6000,1000,100,10,1\n",
      "\n",
      "N = 7\n",
      "runMeans = (fullgrid, run[1], run[5], run[10], run[100], run[1000], run[6000] )\n",
      "combineMeans = (0, combine[1], combine[5], combine[10], combine[100], combine[1000], combine[6000] )\n",
      "convertMeans = (0, convert[1], convert[5], convert[10], convert[100], convert[1000], convert[6000] )\n",
      "\n",
      "#runMeans = np.array(runMeans) / fullgrid\n",
      "#combineMeans = np.array(combineMeans) / fullgrid\n",
      "\n",
      "ind = (np.arange(N) ) + 0.4   # the x locations for the groups\n",
      "width = 0.35 # the width of the bars: can also be len(x) sequence\n",
      "\n",
      "p1 = bar(ind-0.175, runMeans, width, color='red')\n",
      "p2 = bar(ind-0.175, combineMeans, width, bottom=runMeans, color = 'blue' )\n",
      "p3 = bar(ind-0.175, convertMeans, width, bottom=(np.array(combineMeans)+np.array(runMeans)), color = 'green' )\n",
      "\n",
      "ylabel('runtime [s]')\n",
      "xticks(ind, ('fg', '1', '5', '10', '100', '1000', '6000'))\n",
      "#yticks(np.arange(0, 81, 10))\n",
      "legend((p1[0], p2[0], p3[0]), ('run GENE', 'combine','convert'))\n",
      "#xlim(0.5,6.5)\n",
      "tick_params(axis=u'x', which=u'both',length=0)\n",
      "\n",
      "for i in range(0,len(p1)):\n",
      "    height = p1[i].get_height() + p2[i].get_height() + p3[i].get_height() \n",
      "    text(p1[i].get_x() + p1[i].get_width()/2., height + 20,\n",
      "            '%d' % int(height),\n",
      "            ha='center', va='bottom')\n",
      "    \n",
      "ylim(0,2700)\n",
      "\n",
      "savefig('fig/runtimes_31888_31444_512.pdf', bbox_inches='tight')"
     ],
     "language": "python",
     "metadata": {},
     "outputs": [
      {
       "metadata": {},
       "output_type": "display_data",
       "png": "[encoded data removed]",
       "text": [
        "<matplotlib.figure.Figure at 0x2aaad7695b90>"
       ]
      }
     ],
     "prompt_number": 116
    },
    {
     "cell_type": "code",
     "collapsed": false,
     "input": [
      "print p1[0]"
     ],
     "language": "python",
     "metadata": {},
     "outputs": [
      {
       "output_type": "stream",
       "stream": "stdout",
       "text": [
        "Rectangle(0.225,0;0.35x646.606)\n"
       ]
      }
     ],
     "prompt_number": 117
    },
    {
     "cell_type": "heading",
     "level": 3,
     "metadata": {},
     "source": [
      "large scale experiments"
     ]
    },
    {
     "cell_type": "code",
     "collapsed": false,
     "input": [
      "def readTimes(filename):\n",
      "    proc = json.load(open(filename))\n",
      "\n",
      "    times = {}\n",
      "\n",
      "    # print combined time for each process\n",
      "    for data in proc:\n",
      "        for tname in proc[data][\"events\"]:\n",
      "            if tname not in times:\n",
      "                times[tname] = []\n",
      "\n",
      "            tsum = 0\n",
      "            for j in proc[data][\"events\"][tname]:\n",
      "                tsum += j[1] - j[0]\n",
      "            times[tname].append(tsum/1e6)\n",
      "            \n",
      "    return times"
     ],
     "language": "python",
     "metadata": {},
     "outputs": [],
     "prompt_number": 118
    },
    {
     "cell_type": "code",
     "collapsed": false,
     "input": [
      "run = {}\n",
      "combine = {}\n",
      "convert = {}"
     ],
     "language": "python",
     "metadata": {},
     "outputs": [],
     "prompt_number": 119
    },
    {
     "cell_type": "code",
     "collapsed": false,
     "input": [
      "#ncombi 1, nsteps 1000\n",
      "times = readTimes('timers/8192_1000_256.json')\n",
      "\n",
      "for tname in times:\n",
      "    print tname,np.min(times[tname]),np.max(times[tname]),np.mean(times[tname])\n",
      "    \n",
      "run[1000] = np.mean(times[\"manager run\"])\n",
      "combine[1000] = np.mean(times[\"manager combine\"])"
     ],
     "language": "python",
     "metadata": {},
     "outputs": [
      {
       "output_type": "stream",
       "stream": "stdout",
       "text": [
        "manager combine 1.047389 1.047389 1.047389\n",
        "worker write memory 0.390726 1.346713 0.805090644775\n",
        "combine 0.783064 1.055326 0.903182807129\n",
        "manager run 142.718663 142.718663 142.718663\n",
        "worker run 109.80749 142.635977 118.128639875\n"
       ]
      }
     ],
     "prompt_number": 120
    },
    {
     "cell_type": "code",
     "collapsed": false,
     "input": [
      "#ncombi 10, nsteps 100\n",
      "times = readTimes('timers/8192_100_256.json')\n",
      "\n",
      "for tname in times:\n",
      "    print tname,np.min(times[tname]),np.max(times[tname]),np.mean(times[tname])"
     ],
     "language": "python",
     "metadata": {},
     "outputs": [
      {
       "output_type": "stream",
       "stream": "stdout",
       "text": [
        "worker run 40.273731 56.189 49.0550672749\n",
        "worker write memory 0.586907 2.060388 1.20073758948\n",
        "manager run 61.13398 61.13398 61.13398\n",
        "combine 7.542966 10.315472 8.65602864355\n",
        "manager combine 10.325669 10.325669 10.325669\n",
        "worker read memory 0.657212 2.546915 1.80923084937\n"
       ]
      }
     ],
     "prompt_number": 121
    },
    {
     "cell_type": "code",
     "collapsed": false,
     "input": [
      "#ncombi 10, nsteps 10\n",
      "times = readTimes('timers/8192_10_256.json')\n",
      "\n",
      "for tname in times:\n",
      "    print tname,np.min(times[tname])*10,np.max(times[tname])*10,np.mean(times[tname])*10"
     ],
     "language": "python",
     "metadata": {},
     "outputs": [
      {
       "output_type": "stream",
       "stream": "stdout",
       "text": [
        "worker run 225.83053 345.97723 268.716220425\n",
        "worker write memory 11.31237 35.81621 25.9033987732\n",
        "manager run 357.61052 357.61052 357.61052\n",
        "combine 72.62459 92.00177 82.0651257776\n",
        "manager combine 90.43335 90.43335 90.43335\n",
        "worker read memory 6.59834 23.88602 18.0793402771\n"
       ]
      }
     ],
     "prompt_number": 122
    },
    {
     "cell_type": "code",
     "collapsed": false,
     "input": [
      "#ncombi 10, nsteps 1\n",
      "times = readTimes('timers/8192_1_256.json')\n",
      "\n",
      "for tname in times:\n",
      "    print tname,np.min(times[tname])*100,np.max(times[tname])*100,np.mean(times[tname])*100"
     ],
     "language": "python",
     "metadata": {},
     "outputs": [
      {
       "output_type": "stream",
       "stream": "stdout",
       "text": [
        "worker run 1549.1614 2394.9288 1787.30355479\n",
        "worker write memory 113.8975 322.7105 258.63694115\n",
        "manager run 2595.5532 2595.5532 2595.5532\n",
        "combine 831.7299 965.1778 885.653021912\n",
        "manager combine 966.8375 966.8375 966.8375\n",
        "worker read memory 65.6814 222.2423 180.258132751\n"
       ]
      }
     ],
     "prompt_number": 123
    },
    {
     "cell_type": "code",
     "collapsed": false,
     "input": [],
     "language": "python",
     "metadata": {},
     "outputs": [],
     "prompt_number": 123
    },
    {
     "cell_type": "heading",
     "level": 3,
     "metadata": {},
     "source": [
      "experiments with lx = 5"
     ]
    },
    {
     "cell_type": "code",
     "collapsed": false,
     "input": [
      "run = {}\n",
      "combine = {}\n",
      "convert = {}"
     ],
     "language": "python",
     "metadata": {},
     "outputs": [],
     "prompt_number": 124
    },
    {
     "cell_type": "code",
     "collapsed": false,
     "input": [
      "times = readTimes('scale_514441_511313131_1000_1000/ginstance/timers.json')\n",
      "\n",
      "for tname in times:\n",
      "    print tname,np.min(times[tname]),np.max(times[tname]),np.mean(times[tname])\n",
      "    \n",
      "run[1000] = np.mean(times[\"manager run\"])\n",
      "combine[1000] = np.mean(times[\"manager combine\"])\n",
      "convert[1000] = np.mean(times[\"worker write memory\"]) "
     ],
     "language": "python",
     "metadata": {},
     "outputs": [
      {
       "output_type": "stream",
       "stream": "stdout",
       "text": [
        "manager combine 2.860174 2.860174 2.860174\n",
        "worker write memory 0.779779 1.943609 1.12967644788\n",
        "combine 2.353274 2.85627 2.4981102218\n",
        "manager run 337.680348 337.680348 337.680348\n",
        "worker run 174.658147 337.58782 202.334204468\n"
       ]
      }
     ],
     "prompt_number": 125
    },
    {
     "cell_type": "code",
     "collapsed": false,
     "input": [
      "times = readTimes('scale_514441_511313131_1000_100/ginstance/timers.json')\n",
      "\n",
      "for tname in times:\n",
      "    print tname,np.min(times[tname]),np.max(times[tname]),np.mean(times[tname])\n",
      "    \n",
      "run[100] = np.mean(times[\"manager run\"])\n",
      "combine[100] = np.mean(times[\"manager combine\"])\n",
      "convert[100] = np.mean(times[\"worker write memory\"]) + np.mean(times[\"worker read memory\"])"
     ],
     "language": "python",
     "metadata": {},
     "outputs": [
      {
       "output_type": "stream",
       "stream": "stdout",
       "text": [
        "worker run 191.420528 632.481065 225.607141714\n",
        "worker write memory 3.467623 6.730765 4.72112736475\n",
        "manager run 632.754292 632.754292 632.754292\n",
        "combine 22.504779 27.375711 23.9437725602\n",
        "manager combine 27.057671 27.057671 27.057671\n",
        "worker read memory 2.60065 4.811391 3.54978514813\n"
       ]
      }
     ],
     "prompt_number": 126
    },
    {
     "cell_type": "code",
     "collapsed": false,
     "input": [
      "times = readTimes('scale_514441_511313131_100_10/ginstance/timers.json')\n",
      "\n",
      "for tname in times:\n",
      "    print tname,np.min(times[tname])*10,np.max(times[tname])*10,np.mean(times[tname])*10\n",
      "    \n",
      "run[10] = np.mean(times[\"manager run\"])*10\n",
      "combine[10] = np.mean(times[\"manager combine\"])*10\n",
      "convert[10] = (np.mean(times[\"worker write memory\"]) + np.mean(times[\"worker read memory\"]))*10"
     ],
     "language": "python",
     "metadata": {},
     "outputs": [
      {
       "output_type": "stream",
       "stream": "stdout",
       "text": [
        "worker run 333.25363 669.9801 407.390780775\n",
        "worker write memory 34.23224 62.71009 46.8985330811\n",
        "manager run 681.83472 681.83472 681.83472\n",
        "combine 233.84375 276.94183 246.782330516\n",
        "manager combine 267.22684 267.22684 267.22684\n",
        "worker read memory 25.31537 46.64989 35.5728973993\n"
       ]
      }
     ],
     "prompt_number": 127
    },
    {
     "cell_type": "code",
     "collapsed": false,
     "input": [
      "times = readTimes('scale_514441_511313131_50_5/ginstance/timers.json')\n",
      "\n",
      "for tname in times:\n",
      "    print tname,np.min(times[tname])*20,np.max(times[tname])*20,np.mean(times[tname])*20\n",
      "    \n",
      "run[5] = np.mean(times[\"manager run\"])*20\n",
      "combine[5] = np.mean(times[\"manager combine\"])*20\n",
      "convert[5] = (np.mean(times[\"worker write memory\"]) + np.mean(times[\"worker read memory\"]))*20"
     ],
     "language": "python",
     "metadata": {},
     "outputs": [
      {
       "output_type": "stream",
       "stream": "stdout",
       "text": [
        "worker run 518.18076 1044.36228 627.637386986\n",
        "worker write memory 68.08234 124.28624 94.0098165747\n",
        "manager run 1074.93348 1074.93348 1074.93348\n",
        "combine 444.05376 529.82948 470.77359601\n",
        "manager combine 511.53182 511.53182 511.53182\n",
        "worker read memory 52.00022 93.13932 71.0778063318\n"
       ]
      }
     ],
     "prompt_number": 128
    },
    {
     "cell_type": "code",
     "collapsed": false,
     "input": [
      "times = readTimes('scale_514441_511313131_10_1/ginstance/timers.json')\n",
      "\n",
      "for tname in times:\n",
      "    print tname,np.min(times[tname])*100,np.max(times[tname])*100,np.mean(times[tname])*100\n",
      "    \n",
      "run[1] = np.mean(times[\"manager run\"])*100\n",
      "combine[1] = np.mean(times[\"manager combine\"])*100\n",
      "convert[1] = (np.mean(times[\"worker write memory\"]) + np.mean(times[\"worker read memory\"]))*100"
     ],
     "language": "python",
     "metadata": {},
     "outputs": [
      {
       "output_type": "stream",
       "stream": "stdout",
       "text": [
        "worker run 1848.7048 4867.1628 2502.58998969\n",
        "worker write memory 341.0365 614.0543 469.397508337\n",
        "manager run 5056.1061 5056.1061 5056.1061\n",
        "combine 2283.7211 2690.3218 2409.25650891\n",
        "manager combine 2615.8746 2615.8746 2615.8746\n",
        "worker read memory 260.3006 465.5814 355.877149823\n"
       ]
      }
     ],
     "prompt_number": 129
    },
    {
     "cell_type": "code",
     "collapsed": false,
     "input": [
      "# a stacked bar plot with errorbars\n",
      "#6000,1000,100,10,1\n",
      "\n",
      "N = 5\n",
      "runMeans = (run[1], run[5], run[10], run[100], run[1000] )\n",
      "combineMeans = (combine[1], combine[5], combine[10], combine[100], combine[1000] )\n",
      "convertMeans = (convert[1], convert[5], convert[10], convert[100], convert[1000] )\n",
      "\n",
      "#runMeans = np.array(runMeans) / fullgrid\n",
      "#combineMeans = np.array(combineMeans) / fullgrid\n",
      "\n",
      "ind = (np.arange(N) ) + 0.4   # the x locations for the groups\n",
      "width = 0.35 # the width of the bars: can also be len(x) sequence\n",
      "\n",
      "p1 = bar(ind-0.175, runMeans, width, color='red')\n",
      "p2 = bar(ind-0.175, combineMeans, width, bottom=runMeans, color = 'blue' )\n",
      "p3 = bar(ind-0.175, convertMeans, width, bottom=(np.array(combineMeans)+np.array(runMeans)), color = 'green' )\n",
      "\n",
      "ylabel('runtime [s]')\n",
      "xticks(ind, ('1', '5', '10', '100', '1000', ))\n",
      "#yticks(np.arange(0, 81, 10))\n",
      "legend((p1[0], p2[0], p3[0]), ('run GENE', 'combine','convert'))\n",
      "#xlim(0.5,6.5)\n",
      "tick_params(axis=u'x', which=u'both',length=0)\n",
      "\n",
      "for i in range(0,len(p1)):\n",
      "    height = p1[i].get_height() + p2[i].get_height() + p3[i].get_height() \n",
      "    text(p1[i].get_x() + p1[i].get_width()/2., height + 20,\n",
      "            '%d' % int(height),\n",
      "            ha='center', va='bottom')\n",
      "    \n",
      "#ylim(0,2700)\n",
      "\n",
      "#savefig('fig/runtimes_31888_31444_512.pdf', bbox_inches='tight')"
     ],
     "language": "python",
     "metadata": {},
     "outputs": [
      {
       "metadata": {},
       "output_type": "display_data",
       "png": "[encoded data removed]",
       "text": [
        "<matplotlib.figure.Figure at 0x2aaabebbce90>"
       ]
      }
     ],
     "prompt_number": 130
    },
    {
     "cell_type": "heading",
     "level": 3,
     "metadata": {},
     "source": [
      "small experiments"
     ]
    },
    {
     "cell_type": "code",
     "collapsed": false,
     "input": [
      "run = {}\n",
      "combine = {}\n",
      "convert = {}\n"
     ],
     "language": "python",
     "metadata": {},
     "outputs": [],
     "prompt_number": 131
    },
    {
     "cell_type": "code",
     "collapsed": false,
     "input": [
      "times = readTimes('runtimes_314441_318881_6000_6000/ginstance/timers.json')\n",
      "\n",
      "for tname in times:\n",
      "    print tname,np.min(times[tname]),np.max(times[tname]),np.mean(times[tname])\n",
      "    \n",
      "run[6000] = np.mean(times[\"manager run\"])\n",
      "combine[6000] = np.mean(times[\"manager combine\"])\n",
      "convert[6000] = np.mean(times[\"worker write memory\"]) "
     ],
     "language": "python",
     "metadata": {},
     "outputs": [
      {
       "output_type": "stream",
       "stream": "stdout",
       "text": [
        "manager combine 0.230198 0.230198 0.230198\n",
        "worker write memory 0.587289 0.890252 0.642367640625\n",
        "combine 0.193186 0.229815 0.207594015625\n",
        "manager run 346.074828 346.074828 346.074828\n",
        "worker run 339.028209 346.044631 342.935906266\n"
       ]
      }
     ],
     "prompt_number": 132
    },
    {
     "cell_type": "code",
     "collapsed": false,
     "input": [
      "times = readTimes('runtimes_314441_318881_6000_1000/ginstance/timers.json')\n",
      "\n",
      "for tname in times:\n",
      "    print tname,np.min(times[tname]),np.max(times[tname]),np.mean(times[tname])\n",
      "    \n",
      "run[1000] = np.mean(times[\"manager run\"])\n",
      "combine[1000] = np.mean(times[\"manager combine\"])\n",
      "convert[1000] = np.mean(times[\"worker write memory\"]) + np.mean(times[\"worker read memory\"]) "
     ],
     "language": "python",
     "metadata": {},
     "outputs": [
      {
       "output_type": "stream",
       "stream": "stdout",
       "text": [
        "worker run 342.051832 350.18628 346.467713125\n",
        "worker write memory 1.626839 2.097656 1.76483123437\n",
        "manager run 351.186279 351.186279 351.186279\n",
        "combine 0.991689 1.258685 1.12729645313\n",
        "manager combine 1.251902 1.251902 1.251902\n",
        "worker read memory 0.955255 1.063227 1.0012134375\n"
       ]
      }
     ],
     "prompt_number": 133
    },
    {
     "cell_type": "code",
     "collapsed": false,
     "input": [
      "times = readTimes('runtimes_314441_318881_6000_100/ginstance/timers.json')\n",
      "\n",
      "for tname in times:\n",
      "    print tname,np.min(times[tname]),np.max(times[tname]),np.mean(times[tname])\n",
      "    \n",
      "run[100] = np.mean(times[\"manager run\"])\n",
      "combine[100] = np.mean(times[\"manager combine\"])\n",
      "convert[100] = np.mean(times[\"worker write memory\"]) + np.mean(times[\"worker read memory\"]) "
     ],
     "language": "python",
     "metadata": {},
     "outputs": [
      {
       "output_type": "stream",
       "stream": "stdout",
       "text": [
        "worker run 393.474693 411.070107 402.948577906\n",
        "worker write memory 12.856952 13.76489 13.2469971562\n",
        "manager run 413.414965 413.414965 413.414965\n",
        "combine 10.044903 11.597747 10.9984615469\n",
        "manager combine 11.50651 11.50651 11.50651\n",
        "worker read memory 11.285242 12.297198 11.695489125\n"
       ]
      }
     ],
     "prompt_number": 134
    },
    {
     "cell_type": "code",
     "collapsed": false,
     "input": [
      "times = readTimes('runtimes_314441_318881_6000_50/ginstance/timers.json')\n",
      "\n",
      "for tname in times:\n",
      "    print tname,np.min(times[tname]),np.max(times[tname]),np.mean(times[tname])\n",
      "    \n",
      "run[50] = np.mean(times[\"manager run\"])\n",
      "combine[50] = np.mean(times[\"manager combine\"])\n",
      "convert[50] = np.mean(times[\"worker write memory\"]) + np.mean(times[\"worker read memory\"]) "
     ],
     "language": "python",
     "metadata": {},
     "outputs": [
      {
       "output_type": "stream",
       "stream": "stdout",
       "text": [
        "worker run 444.426355 467.944523 455.200866828\n",
        "worker write memory 24.342881 26.137482 25.0032712969\n",
        "manager run 469.944307 469.944307 469.944307\n",
        "combine 20.346544 24.15905 22.2793837188\n",
        "manager combine 23.95429 23.95429 23.95429\n",
        "worker read memory 22.935846 24.748922 23.7066943125\n"
       ]
      }
     ],
     "prompt_number": 135
    },
    {
     "cell_type": "code",
     "collapsed": false,
     "input": [
      "times = readTimes('runtimes_314441_318881_6000_10/ginstance/timers.json')\n",
      "\n",
      "for tname in times:\n",
      "    print tname,np.min(times[tname]),np.max(times[tname]),np.mean(times[tname])\n",
      "    \n",
      "run[10] = np.mean(times[\"manager run\"])\n",
      "combine[10] = np.mean(times[\"manager combine\"])\n",
      "convert[10] = np.mean(times[\"worker write memory\"]) + np.mean(times[\"worker read memory\"]) "
     ],
     "language": "python",
     "metadata": {},
     "outputs": [
      {
       "output_type": "stream",
       "stream": "stdout",
       "text": [
        "worker run 905.624995 971.487719 941.571346469\n",
        "worker write memory 118.240457 130.095309 122.103633219\n",
        "manager run 998.494615 998.494615 998.494615\n",
        "combine 101.579109 109.719581 105.071531938\n",
        "manager combine 109.932408 109.932408 109.932408\n",
        "worker read memory 115.417211 122.631374 118.952668813\n"
       ]
      }
     ],
     "prompt_number": 136
    },
    {
     "cell_type": "code",
     "collapsed": false,
     "input": [
      "times = readTimes('runtimes_314441_318881_6000_5/ginstance/timers.json')\n",
      "\n",
      "for tname in times:\n",
      "    print tname,np.min(times[tname]),np.max(times[tname]),np.mean(times[tname])\n",
      "    \n",
      "run[5] = np.mean(times[\"manager run\"])\n",
      "combine[5] = np.mean(times[\"manager combine\"])\n",
      "convert[5] = np.mean(times[\"worker write memory\"]) + np.mean(times[\"worker read memory\"]) "
     ],
     "language": "python",
     "metadata": {},
     "outputs": [
      {
       "output_type": "stream",
       "stream": "stdout",
       "text": [
        "worker run 1392.897001 1554.224103 1473.92490489\n",
        "worker write memory 234.61193 263.847356 242.681823094\n",
        "manager run 1594.717555 1594.717555 1594.717555\n",
        "combine 204.733301 216.358529 211.527764922\n",
        "manager combine 214.405726 214.405726 214.405726\n",
        "worker read memory 231.254333 254.100945 237.841170734\n"
       ]
      }
     ],
     "prompt_number": 137
    },
    {
     "cell_type": "code",
     "collapsed": false,
     "input": [
      "times = readTimes('runtimes_314441_318881_6000_1/ginstance/timers.json')\n",
      "\n",
      "for tname in times:\n",
      "    print tname,np.min(times[tname]),np.max(times[tname]),np.mean(times[tname])\n",
      "    \n",
      "run[1] = np.mean(times[\"manager run\"])\n",
      "combine[1] = np.mean(times[\"manager combine\"])\n",
      "convert[1] = np.mean(times[\"worker write memory\"]) + np.mean(times[\"worker read memory\"]) "
     ],
     "language": "python",
     "metadata": {},
     "outputs": [
      {
       "output_type": "stream",
       "stream": "stdout",
       "text": [
        "worker run 5320.024308 5942.190246 5593.62419966\n",
        "worker write memory 1119.281966 1320.782128 1206.51757992\n",
        "manager run 6058.61503 6058.61503 6058.61503\n",
        "combine 1037.546573 1138.846913 1076.27657422\n",
        "manager combine 1140.776463 1140.776463 1140.776463\n",
        "worker read memory 1108.67915 1284.092582 1188.46644466\n"
       ]
      }
     ],
     "prompt_number": 138
    },
    {
     "cell_type": "code",
     "collapsed": false,
     "input": [
      "times = readTimes('fgtimes64_318881_318881_6000_6000/ginstance/timers.json')\n",
      "\n",
      "for tname in times:\n",
      "    print tname,np.min(times[tname]),np.max(times[tname]),np.mean(times[tname])\n",
      "    \n",
      "fullgrid = np.mean(times[\"manager run\"])"
     ],
     "language": "python",
     "metadata": {},
     "outputs": [
      {
       "output_type": "stream",
       "stream": "stdout",
       "text": [
        "manager combine 0.690549 0.690549 0.690549\n",
        "worker write memory 6.03188 6.146203 6.12492829687\n",
        "combine 0.656981 0.691524 0.674507390625\n",
        "manager run 4990.658097 4990.658097 4990.658097\n",
        "worker run 4990.6382 4990.640844 4990.63943403\n"
       ]
      }
     ],
     "prompt_number": 139
    },
    {
     "cell_type": "code",
     "collapsed": false,
     "input": [
      "# a stacked bar plot with errorbars\n",
      "#6000,1000,100,10,1\n",
      "\n",
      "N = 8\n",
      "runMeans = (fullgrid, run[1], run[5], run[10], run[50], run[100], run[1000], run[6000] )\n",
      "combineMeans = (0, combine[1], combine[5], combine[10], combine[50], combine[100], combine[1000], combine[6000] )\n",
      "convertMeans = (0, convert[1], convert[5], convert[10], convert[50], convert[100], convert[1000], convert[6000] )\n",
      "\n",
      "#runMeans = np.array(runMeans) / fullgrid\n",
      "#combineMeans = np.array(combineMeans) / fullgrid\n",
      "\n",
      "ind = (np.arange(N) ) + 0.4   # the x locations for the groups\n",
      "width = 0.35 # the width of the bars: can also be len(x) sequence\n",
      "\n",
      "p1 = bar(ind-0.175, runMeans, width, color='red')\n",
      "p2 = bar(ind-0.175, combineMeans, width, bottom=runMeans, color = 'blue' )\n",
      "p3 = bar(ind-0.175, convertMeans, width, color = 'green' )\n",
      "\n",
      "ylabel('runtime [s]')\n",
      "xlabel('length of combination interval')\n",
      "xticks(ind, ('fg', '1', '5', '10', '50', '100', '1000','6000' ))\n",
      "#yticks(np.arange(0, 81, 10))\n",
      "legend((p1[0], p2[0], p3[0]), ('run GENE', 'combine','convert'))\n",
      "#xlim(0.5,6.5)\n",
      "tick_params(axis=u'x', which=u'both',length=0)\n",
      "\n",
      "for i in range(0,len(p1)):\n",
      "    height = p1[i].get_height() + p2[i].get_height() \n",
      "    text(p1[i].get_x() + p1[i].get_width()/2., height + 20,\n",
      "            '%d' % int(height),\n",
      "            ha='center', va='bottom')\n",
      "    \n",
      "ylim(0,10200)\n",
      "\n",
      "savefig('fig/runtimes_31888_31444_64.pdf', bbox_inches='tight')"
     ],
     "language": "python",
     "metadata": {},
     "outputs": [
      {
       "metadata": {},
       "output_type": "display_data",
       "png": "[encoded data removed]",
       "text": [
        "<matplotlib.figure.Figure at 0x2aaae6cca5d0>"
       ]
      }
     ],
     "prompt_number": 141
    },
    {
     "cell_type": "heading",
     "level": 3,
     "metadata": {},
     "source": [
      "large large experiments"
     ]
    },
    {
     "cell_type": "code",
     "collapsed": false,
     "input": [
      "run = {}\n",
      "combine = {}\n",
      "convert = {}"
     ],
     "language": "python",
     "metadata": {},
     "outputs": []
    },
    {
     "cell_type": "code",
     "collapsed": false,
     "input": [
      "times = readTimes('scale_1_914441_911313131_300_100/ginstance/timers.json')\n",
      "\n",
      "for tname in times:\n",
      "    print tname,np.min(times[tname]),np.max(times[tname]),np.mean(times[tname])\n",
      "    \n",
      "run[1] = np.mean(times[\"manager run\"])\n",
      "combine[1] = np.mean(times[\"manager combine\"])\n",
      "convert[1] = np.mean(times[\"worker write memory\"]) + np.mean(times[\"worker read memory\"])   "
     ],
     "language": "python",
     "metadata": {},
     "outputs": []
    },
    {
     "cell_type": "code",
     "collapsed": false,
     "input": [
      "times = readTimes('scale_2_914441_911313131_300_100/ginstance/timers.json')\n",
      "\n",
      "for tname in times:\n",
      "    print tname,np.min(times[tname]),np.max(times[tname]),np.mean(times[tname])\n",
      "    \n",
      "run[2] = np.mean(times[\"manager run\"])\n",
      "combine[2] = np.mean(times[\"manager combine\"])\n",
      "convert[2] = np.mean(times[\"worker write memory\"]) + np.mean(times[\"worker read memory\"])   "
     ],
     "language": "python",
     "metadata": {},
     "outputs": []
    },
    {
     "cell_type": "code",
     "collapsed": false,
     "input": [
      "times = readTimes('scale_4_914441_911313131_300_100/ginstance/timers.json')\n",
      "\n",
      "for tname in times:\n",
      "    print tname,np.min(times[tname]),np.max(times[tname]),np.mean(times[tname])\n",
      "    \n",
      "run[4] = np.mean(times[\"manager run\"])\n",
      "combine[4] = np.mean(times[\"manager combine\"])\n",
      "convert[4] = np.mean(times[\"worker write memory\"]) + np.mean(times[\"worker read memory\"])   "
     ],
     "language": "python",
     "metadata": {},
     "outputs": []
    },
    {
     "cell_type": "code",
     "collapsed": false,
     "input": [
      "times = readTimes('scale_8_914441_911313131_300_100/ginstance/timers.json')\n",
      "\n",
      "for tname in times:\n",
      "    print tname,np.min(times[tname]),np.max(times[tname]),np.mean(times[tname])\n",
      "    \n",
      "run[8] = np.mean(times[\"manager run\"])\n",
      "combine[8] = np.mean(times[\"manager combine\"])\n",
      "convert[8] = np.mean(times[\"worker write memory\"]) + np.mean(times[\"worker read memory\"])   "
     ],
     "language": "python",
     "metadata": {},
     "outputs": []
    },
    {
     "cell_type": "code",
     "collapsed": false,
     "input": [
      "times = readTimes('scale_16_914441_911313131_300_100/ginstance/timers.json')\n",
      "\n",
      "for tname in times:\n",
      "    print tname,np.min(times[tname]),np.max(times[tname]),np.mean(times[tname])\n",
      "    \n",
      "run[15] = np.mean(times[\"manager run\"])\n",
      "combine[15] = np.mean(times[\"manager combine\"])\n",
      "convert[15] = np.mean(times[\"worker write memory\"]) + np.mean(times[\"worker read memory\"])  "
     ],
     "language": "python",
     "metadata": {},
     "outputs": []
    },
    {
     "cell_type": "code",
     "collapsed": false,
     "input": [
      "times = readTimes('scale_32_914441_911313131_300_100/ginstance/timers.json')\n",
      "\n",
      "for tname in times:\n",
      "    print tname,np.min(times[tname]),np.max(times[tname]),np.mean(times[tname])\n",
      "\n",
      "run[32] = np.mean(times[\"manager run\"])\n",
      "combine[32] = np.mean(times[\"manager combine\"])\n",
      "convert[32] = np.mean(times[\"worker write memory\"]) + np.mean(times[\"worker read memory\"])   "
     ],
     "language": "python",
     "metadata": {},
     "outputs": []
    },
    {
     "cell_type": "code",
     "collapsed": false,
     "input": [
      "run_times = np.array([ run[1], run[2], run[4], run[8], run[15], run[32] ]) #/ 300 #total 300 time steps\n",
      "combine_times = np.array([ combine[1], combine[2], combine[4], combine[8], combine[15], combine[32] ]) #/ 3 #3 combination steps\n",
      "convert_times = np.array([ convert[1], convert[2], convert[4], convert[8], convert[15], convert[32] ])\n",
      "procs = np.array([1,2,4,8,15,32])*1024\n",
      "\n",
      "loglog(procs, run_times, 'o-', label='run GENE')\n",
      "loglog(procs, combine_times, 's-', label='combine')\n",
      "loglog(procs, convert_times, 'd-', label='convert')\n",
      "legend()\n",
      "\n",
      "ticks = [2**10,2**11,2**12,2**13,2**14,2**15]\n",
      "xticks( ticks, ticks )\n",
      "\n",
      "ylabel('runtime [s]')\n",
      "xlabel('total number of processes')\n",
      "\n",
      "xlim(900,40000)\n",
      "\n",
      "#savefig('fig/scaling_large.pdf', bbox_inches='tight')"
     ],
     "language": "python",
     "metadata": {},
     "outputs": []
    },
    {
     "cell_type": "code",
     "collapsed": false,
     "input": [],
     "language": "python",
     "metadata": {},
     "outputs": []
    }
   ],
   "metadata": {}
  }
 ]
}