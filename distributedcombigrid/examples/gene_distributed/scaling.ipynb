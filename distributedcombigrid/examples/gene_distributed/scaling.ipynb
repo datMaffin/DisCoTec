{
 "metadata": {
  "name": "",
  "signature": "sha256:1c580a3c50a1d982bca99bb0061dfdf2ed0874692b7ec6c9baa94c0d69997fd3"
 },
 "nbformat": 3,
 "nbformat_minor": 0,
 "worksheets": [
  {
   "cells": [
    {
     "cell_type": "code",
     "collapsed": false,
     "input": [],
     "language": "python",
     "metadata": {},
     "outputs": []
    }
   ],
   "metadata": {}
  }
 ]
}