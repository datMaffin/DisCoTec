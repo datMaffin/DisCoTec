{
 "metadata": {
  "name": "",
  "signature": "sha256:bf6085ebcfe2c5440f5084c23549d3af75b4b914bfdfd6e891741a118890ccdf"
 },
 "nbformat": 3,
 "nbformat_minor": 0,
 "worksheets": [
  {
   "cells": [
    {
     "cell_type": "code",
     "collapsed": false,
     "input": [
      "g_old = ... #local array with data at time t\n",
      "g = ... #local array with data at time t + deltaT\n",
      "deltaT = ... #unterschied in simulationszeit an denen die beiden l\u00f6sungen ausgewertet wurden, z.b. nsteps*dt\n",
      "\n",
      "# berechne lambda an jedem gitterpunkt (siehe formel 5.7 in meiner diss)\n",
      "lambda_arr = ... #array mit selber gr\u00f6\u00dfe wie g, g_old\n",
      "for i in range(0,len(lambda_arr)):\n",
      "    lambda_arr[i] = log( g[i] / g_old[i] ) / deltaT\n",
      "    \n",
      "# berechne l1-norm von g_old\n",
      "l1g_loc = sum( abs(g_old) )\n",
      "\n",
      "    \n",
      "# gewichte die eintr\u00e4ge in lambda_arr mit der l\u00f6sung\n",
      "fac"
     ],
     "language": "python",
     "metadata": {},
     "outputs": []
    }
   ],
   "metadata": {}
  }
 ]
}